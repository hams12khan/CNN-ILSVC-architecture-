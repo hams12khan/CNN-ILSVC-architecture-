{
 "cells": [
  {
   "cell_type": "code",
   "execution_count": 1,
   "metadata": {},
   "outputs": [],
   "source": [
    "import tensorflow as tf"
   ]
  },
  {
   "cell_type": "code",
   "execution_count": 7,
   "metadata": {},
   "outputs": [],
   "source": [
    "model=tf.keras.models.Sequential([\n",
    "    tf.keras.layers.Conv2D(filters=96,input_shape=(227,227,3),kernel_size=(11,11),padding=\"VALID\",activation=\"relu\"),\n",
    "    tf.keras.layers.MaxPool2D(pool_size=(3,3),padding=\"VALID\",strides=2),\n",
    "    tf.keras.layers.Conv2D(filters=256,kernel_size=(5,5),activation=\"relu\",padding=\"SAME\"),\n",
    "    tf.keras.layers.MaxPool2D(pool_size=(3,3),padding=\"VALID\",strides=2),\n",
    "    tf.keras.layers.Conv2D(filters=384,kernel_size=(3,3),activation=\"relu\",padding=\"SAME\"),\n",
    "    tf.keras.layers.Conv2D(filters=384,kernel_size=(3,3),activation=\"relu\",padding=\"SAME\"),\n",
    "    tf.keras.layers.Conv2D(filters=256,kernel_size=(3,3),activation=\"relu\",padding=\"SAME\"),\n",
    "    tf.keras.layers.MaxPool2D(pool_size=(3,3),padding=\"VALID\",strides=2),\n",
    "    tf.keras.layers.Flatten(),\n",
    "    tf.keras.layers.Dense(4096,activation=\"relu\"),\n",
    "    tf.keras.layers.Dense(4096,activation=\"relu\"),\n",
    "    tf.keras.layers.Dense(1000,activation=\"softmax\")\n",
    "])"
   ]
  },
  {
   "cell_type": "code",
   "execution_count": 8,
   "metadata": {},
   "outputs": [
    {
     "name": "stdout",
     "output_type": "stream",
     "text": [
      "Model: \"sequential_4\"\n",
      "_________________________________________________________________\n",
      " Layer (type)                Output Shape              Param #   \n",
      "=================================================================\n",
      " conv2d_13 (Conv2D)          (None, 217, 217, 96)      34944     \n",
      "                                                                 \n",
      " max_pooling2d_7 (MaxPooling  (None, 108, 108, 96)     0         \n",
      " 2D)                                                             \n",
      "                                                                 \n",
      " conv2d_14 (Conv2D)          (None, 108, 108, 256)     614656    \n",
      "                                                                 \n",
      " max_pooling2d_8 (MaxPooling  (None, 53, 53, 256)      0         \n",
      " 2D)                                                             \n",
      "                                                                 \n",
      " conv2d_15 (Conv2D)          (None, 53, 53, 384)       885120    \n",
      "                                                                 \n",
      " conv2d_16 (Conv2D)          (None, 53, 53, 384)       1327488   \n",
      "                                                                 \n",
      " conv2d_17 (Conv2D)          (None, 53, 53, 256)       884992    \n",
      "                                                                 \n",
      " max_pooling2d_9 (MaxPooling  (None, 26, 26, 256)      0         \n",
      " 2D)                                                             \n",
      "                                                                 \n",
      " flatten_2 (Flatten)         (None, 173056)            0         \n",
      "                                                                 \n",
      " dense_3 (Dense)             (None, 4096)              708841472 \n",
      "                                                                 \n",
      " dense_4 (Dense)             (None, 4096)              16781312  \n",
      "                                                                 \n",
      " dense_5 (Dense)             (None, 1000)              4097000   \n",
      "                                                                 \n",
      "=================================================================\n",
      "Total params: 733,466,984\n",
      "Trainable params: 733,466,984\n",
      "Non-trainable params: 0\n",
      "_________________________________________________________________\n"
     ]
    }
   ],
   "source": [
    "model.summary()"
   ]
  },
  {
   "cell_type": "code",
   "execution_count": null,
   "metadata": {},
   "outputs": [],
   "source": []
  }
 ],
 "metadata": {
  "kernelspec": {
   "display_name": "Python 3",
   "language": "python",
   "name": "python3"
  },
  "language_info": {
   "codemirror_mode": {
    "name": "ipython",
    "version": 3
   },
   "file_extension": ".py",
   "mimetype": "text/x-python",
   "name": "python",
   "nbconvert_exporter": "python",
   "pygments_lexer": "ipython3",
   "version": "3.10.7"
  },
  "orig_nbformat": 4
 },
 "nbformat": 4,
 "nbformat_minor": 2
}
