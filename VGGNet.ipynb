{
 "cells": [
  {
   "cell_type": "code",
   "execution_count": 1,
   "metadata": {},
   "outputs": [],
   "source": [
    "import tensorflow as tf"
   ]
  },
  {
   "cell_type": "code",
   "execution_count": 9,
   "metadata": {},
   "outputs": [],
   "source": [
    "from tensorflow.keras.layers import Dense,Conv2D,MaxPooling2D,Dropout,Flatten\n",
    "from tensorflow.keras.models import Sequential"
   ]
  },
  {
   "cell_type": "code",
   "execution_count": 14,
   "metadata": {},
   "outputs": [],
   "source": [
    "#VGG Net -19  architecture\n",
    "model=Sequential([\n",
    "    Conv2D(64,3,activation=\"relu\",input_shape=(224,224,3)),\n",
    "    Conv2D(64,3,activation=\"relu\"),\n",
    "    MaxPooling2D(),\n",
    "\n",
    "    Conv2D(128,3,activation=\"relu\"),\n",
    "    Conv2D(128,3,activation=\"relu\"),\n",
    "    MaxPooling2D(),\n",
    "\n",
    "    Conv2D(256,3,activation=\"relu\"),\n",
    "    Conv2D(256,3,activation=\"relu\"),\n",
    "    Conv2D(256,3,activation=\"relu\"),\n",
    "    MaxPooling2D(),\n",
    "\n",
    "\n",
    "    Conv2D(512,3,activation=\"relu\"), \n",
    "    Conv2D(512,3,activation=\"relu\"),\n",
    "    Conv2D(512,3,activation=\"relu\"),\n",
    "    MaxPooling2D(),\n",
    "\n",
    "\n",
    "    Conv2D(512,3,activation=\"relu\"), \n",
    "    Conv2D(512,3,activation=\"relu\"),\n",
    "    Conv2D(512,3,activation=\"relu\"),\n",
    "    MaxPooling2D(),\n",
    "\n",
    "    Flatten(),\n",
    "    Dense(4096,activation=\"relu\"),\n",
    "    Dropout(0.2),\n",
    "\n",
    "    Dense(4096,activation=\"relu\"),\n",
    "    Dropout(0.2),\n",
    "\n",
    "    Dense(1000,activation=\"softmax\")\n",
    "])"
   ]
  },
  {
   "cell_type": "code",
   "execution_count": 15,
   "metadata": {},
   "outputs": [
    {
     "name": "stdout",
     "output_type": "stream",
     "text": [
      "Model: \"sequential_3\"\n",
      "_________________________________________________________________\n",
      " Layer (type)                Output Shape              Param #   \n",
      "=================================================================\n",
      " conv2d_41 (Conv2D)          (None, 222, 222, 64)      1792      \n",
      "                                                                 \n",
      " conv2d_42 (Conv2D)          (None, 220, 220, 64)      36928     \n",
      "                                                                 \n",
      " max_pooling2d_16 (MaxPoolin  (None, 110, 110, 64)     0         \n",
      " g2D)                                                            \n",
      "                                                                 \n",
      " conv2d_43 (Conv2D)          (None, 108, 108, 128)     73856     \n",
      "                                                                 \n",
      " conv2d_44 (Conv2D)          (None, 106, 106, 128)     147584    \n",
      "                                                                 \n",
      " max_pooling2d_17 (MaxPoolin  (None, 53, 53, 128)      0         \n",
      " g2D)                                                            \n",
      "                                                                 \n",
      " conv2d_45 (Conv2D)          (None, 51, 51, 256)       295168    \n",
      "                                                                 \n",
      " conv2d_46 (Conv2D)          (None, 49, 49, 256)       590080    \n",
      "                                                                 \n",
      " conv2d_47 (Conv2D)          (None, 47, 47, 256)       590080    \n",
      "                                                                 \n",
      " max_pooling2d_18 (MaxPoolin  (None, 23, 23, 256)      0         \n",
      " g2D)                                                            \n",
      "                                                                 \n",
      " conv2d_48 (Conv2D)          (None, 21, 21, 512)       1180160   \n",
      "                                                                 \n",
      " conv2d_49 (Conv2D)          (None, 19, 19, 512)       2359808   \n",
      "                                                                 \n",
      " conv2d_50 (Conv2D)          (None, 17, 17, 512)       2359808   \n",
      "                                                                 \n",
      " max_pooling2d_19 (MaxPoolin  (None, 8, 8, 512)        0         \n",
      " g2D)                                                            \n",
      "                                                                 \n",
      " conv2d_51 (Conv2D)          (None, 6, 6, 512)         2359808   \n",
      "                                                                 \n",
      " conv2d_52 (Conv2D)          (None, 4, 4, 512)         2359808   \n",
      "                                                                 \n",
      " conv2d_53 (Conv2D)          (None, 2, 2, 512)         2359808   \n",
      "                                                                 \n",
      " max_pooling2d_20 (MaxPoolin  (None, 1, 1, 512)        0         \n",
      " g2D)                                                            \n",
      "                                                                 \n",
      " flatten_2 (Flatten)         (None, 512)               0         \n",
      "                                                                 \n",
      " dense_6 (Dense)             (None, 4096)              2101248   \n",
      "                                                                 \n",
      " dropout_2 (Dropout)         (None, 4096)              0         \n",
      "                                                                 \n",
      " dense_7 (Dense)             (None, 4096)              16781312  \n",
      "                                                                 \n",
      " dropout_3 (Dropout)         (None, 4096)              0         \n",
      "                                                                 \n",
      " dense_8 (Dense)             (None, 1000)              4097000   \n",
      "                                                                 \n",
      "=================================================================\n",
      "Total params: 37,694,248\n",
      "Trainable params: 37,694,248\n",
      "Non-trainable params: 0\n",
      "_________________________________________________________________\n"
     ]
    }
   ],
   "source": [
    "model.summary()"
   ]
  },
  {
   "cell_type": "code",
   "execution_count": null,
   "metadata": {},
   "outputs": [],
   "source": []
  }
 ],
 "metadata": {
  "kernelspec": {
   "display_name": "Python 3",
   "language": "python",
   "name": "python3"
  },
  "language_info": {
   "codemirror_mode": {
    "name": "ipython",
    "version": 3
   },
   "file_extension": ".py",
   "mimetype": "text/x-python",
   "name": "python",
   "nbconvert_exporter": "python",
   "pygments_lexer": "ipython3",
   "version": "3.10.7"
  },
  "orig_nbformat": 4
 },
 "nbformat": 4,
 "nbformat_minor": 2
}
